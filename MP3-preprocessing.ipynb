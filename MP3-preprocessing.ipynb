{
 "cells": [
  {
   "cell_type": "markdown",
   "metadata": {},
   "source": [
    "The goal of this notebook is to explore a health insurance dataset and make predictions based on certain values.\n",
    "\n",
    "- What features/columns had a relatively even or normal distribution? Which features/columns did not?\n",
    "    - The only feature with a normal distribution was BMI, the rest did not.\n",
    "\n",
    "- How did you handle missing values? Why did you do this method as opposed to others?\n",
    "    - There were no missing values\n",
    "\n",
    "- How did you encode your categorical data? Why did you do this method as opposed to others?\n",
    "    - I used One Hot Encoding because I did not have any data with any inherent order.\n",
    "\n",
    "- How did you handle removing outliers? Why did you use this method as opposed to others?\n",
    "    - The only feature with outliers was BMI. To handle these outliers, I used zscore. I tried iqr at first, but that didn't really do anything. Zscore also probably worked better because BMI had a normal distribution\n",
    "\n",
    "- How did you normalize/standardize the data? Why did you use this method as opposed to others?\n",
    "    - I used normalization to scale the data. I did this because most of the data did not have a normal distribution.\n",
    "\n",
    "- How did each model perform? Which performed the best?\n",
    "    - Each model performed relatively well. The SVM model performed best.\n",
    "    - SVM:\n",
    "        - R-Sqaured Score:  0.8159791383514347\n",
    "        - Mean Absolute Error:  0.2217775499938004\n",
    "        - Root Mean Squared Error:  0.18136363781951467\n",
    "    \n",
    "    - Linear:\n",
    "        - R-Sqaured Score:  0.714267157903296\n",
    "        - Mean Absolute Error:  0.36863585948206595\n",
    "        - Root Mean Squared Error:  0.2816069179489748\n",
    "    \n",
    "    - Decision Tree:\n",
    "        - R-Sqaured Score:  0.7228673164921159\n",
    "        - Mean Absolute Error:  0.24095140686608457\n",
    "        - Root Mean Squared Error:  0.2731309439016852\n",
    "    \n",
    "    - Neural Net:\n",
    "        - R-Sqaured Score:  0.8077499720527875\n",
    "        - Mean Absolute Error:  0.25106554571743656\n",
    "        - Root Mean Squared Error:  0.1894739766298754\n",
    "\n",
    "- I ran bias tests for three of the four models and they all had relatively high R-squared values and low Mean Absolute/Mean squared values so I would say no, the models did not have any relatively high amount of bias or variance."
   ]
  },
  {
   "cell_type": "code",
   "execution_count": 1,
   "metadata": {},
   "outputs": [
    {
     "data": {
      "text/html": [
       "<div>\n",
       "<style scoped>\n",
       "    .dataframe tbody tr th:only-of-type {\n",
       "        vertical-align: middle;\n",
       "    }\n",
       "\n",
       "    .dataframe tbody tr th {\n",
       "        vertical-align: top;\n",
       "    }\n",
       "\n",
       "    .dataframe thead th {\n",
       "        text-align: right;\n",
       "    }\n",
       "</style>\n",
       "<table border=\"1\" class=\"dataframe\">\n",
       "  <thead>\n",
       "    <tr style=\"text-align: right;\">\n",
       "      <th></th>\n",
       "      <th>age</th>\n",
       "      <th>sex</th>\n",
       "      <th>bmi</th>\n",
       "      <th>children</th>\n",
       "      <th>smoker</th>\n",
       "      <th>region</th>\n",
       "      <th>charges</th>\n",
       "    </tr>\n",
       "  </thead>\n",
       "  <tbody>\n",
       "    <tr>\n",
       "      <th>0</th>\n",
       "      <td>19</td>\n",
       "      <td>female</td>\n",
       "      <td>27.900</td>\n",
       "      <td>0</td>\n",
       "      <td>yes</td>\n",
       "      <td>southwest</td>\n",
       "      <td>16884.92400</td>\n",
       "    </tr>\n",
       "    <tr>\n",
       "      <th>1</th>\n",
       "      <td>18</td>\n",
       "      <td>male</td>\n",
       "      <td>33.770</td>\n",
       "      <td>1</td>\n",
       "      <td>no</td>\n",
       "      <td>southeast</td>\n",
       "      <td>1725.55230</td>\n",
       "    </tr>\n",
       "    <tr>\n",
       "      <th>2</th>\n",
       "      <td>28</td>\n",
       "      <td>male</td>\n",
       "      <td>33.000</td>\n",
       "      <td>3</td>\n",
       "      <td>no</td>\n",
       "      <td>southeast</td>\n",
       "      <td>4449.46200</td>\n",
       "    </tr>\n",
       "    <tr>\n",
       "      <th>3</th>\n",
       "      <td>33</td>\n",
       "      <td>male</td>\n",
       "      <td>22.705</td>\n",
       "      <td>0</td>\n",
       "      <td>no</td>\n",
       "      <td>northwest</td>\n",
       "      <td>21984.47061</td>\n",
       "    </tr>\n",
       "    <tr>\n",
       "      <th>4</th>\n",
       "      <td>32</td>\n",
       "      <td>male</td>\n",
       "      <td>28.880</td>\n",
       "      <td>0</td>\n",
       "      <td>no</td>\n",
       "      <td>northwest</td>\n",
       "      <td>3866.85520</td>\n",
       "    </tr>\n",
       "  </tbody>\n",
       "</table>\n",
       "</div>"
      ],
      "text/plain": [
       "   age     sex     bmi  children smoker     region      charges\n",
       "0   19  female  27.900         0    yes  southwest  16884.92400\n",
       "1   18    male  33.770         1     no  southeast   1725.55230\n",
       "2   28    male  33.000         3     no  southeast   4449.46200\n",
       "3   33    male  22.705         0     no  northwest  21984.47061\n",
       "4   32    male  28.880         0     no  northwest   3866.85520"
      ]
     },
     "execution_count": 1,
     "metadata": {},
     "output_type": "execute_result"
    }
   ],
   "source": [
    "# import libraries\n",
    "import pandas as pd\n",
    "import matplotlib.pyplot as plt\n",
    "import numpy as np\n",
    "import pickle as pkl\n",
    "import seaborn as sns\n",
    "\n",
    "# read in the data\n",
    "featuresTrainDF = pd.read_csv(\"insurance.csv\")\n",
    "\n",
    "# peek at the data\n",
    "featuresTrainDF.head()"
   ]
  },
  {
   "cell_type": "code",
   "execution_count": 2,
   "metadata": {},
   "outputs": [
    {
     "data": {
      "text/html": [
       "<div>\n",
       "<style scoped>\n",
       "    .dataframe tbody tr th:only-of-type {\n",
       "        vertical-align: middle;\n",
       "    }\n",
       "\n",
       "    .dataframe tbody tr th {\n",
       "        vertical-align: top;\n",
       "    }\n",
       "\n",
       "    .dataframe thead th {\n",
       "        text-align: right;\n",
       "    }\n",
       "</style>\n",
       "<table border=\"1\" class=\"dataframe\">\n",
       "  <thead>\n",
       "    <tr style=\"text-align: right;\">\n",
       "      <th></th>\n",
       "      <th>age</th>\n",
       "      <th>bmi</th>\n",
       "      <th>children</th>\n",
       "      <th>charges</th>\n",
       "    </tr>\n",
       "  </thead>\n",
       "  <tbody>\n",
       "    <tr>\n",
       "      <th>count</th>\n",
       "      <td>1338.000000</td>\n",
       "      <td>1338.000000</td>\n",
       "      <td>1338.000000</td>\n",
       "      <td>1338.000000</td>\n",
       "    </tr>\n",
       "    <tr>\n",
       "      <th>mean</th>\n",
       "      <td>39.207025</td>\n",
       "      <td>30.663397</td>\n",
       "      <td>1.094918</td>\n",
       "      <td>13270.422265</td>\n",
       "    </tr>\n",
       "    <tr>\n",
       "      <th>std</th>\n",
       "      <td>14.049960</td>\n",
       "      <td>6.098187</td>\n",
       "      <td>1.205493</td>\n",
       "      <td>12110.011237</td>\n",
       "    </tr>\n",
       "    <tr>\n",
       "      <th>min</th>\n",
       "      <td>18.000000</td>\n",
       "      <td>15.960000</td>\n",
       "      <td>0.000000</td>\n",
       "      <td>1121.873900</td>\n",
       "    </tr>\n",
       "    <tr>\n",
       "      <th>25%</th>\n",
       "      <td>27.000000</td>\n",
       "      <td>26.296250</td>\n",
       "      <td>0.000000</td>\n",
       "      <td>4740.287150</td>\n",
       "    </tr>\n",
       "    <tr>\n",
       "      <th>50%</th>\n",
       "      <td>39.000000</td>\n",
       "      <td>30.400000</td>\n",
       "      <td>1.000000</td>\n",
       "      <td>9382.033000</td>\n",
       "    </tr>\n",
       "    <tr>\n",
       "      <th>75%</th>\n",
       "      <td>51.000000</td>\n",
       "      <td>34.693750</td>\n",
       "      <td>2.000000</td>\n",
       "      <td>16639.912515</td>\n",
       "    </tr>\n",
       "    <tr>\n",
       "      <th>max</th>\n",
       "      <td>64.000000</td>\n",
       "      <td>53.130000</td>\n",
       "      <td>5.000000</td>\n",
       "      <td>63770.428010</td>\n",
       "    </tr>\n",
       "  </tbody>\n",
       "</table>\n",
       "</div>"
      ],
      "text/plain": [
       "               age          bmi     children       charges\n",
       "count  1338.000000  1338.000000  1338.000000   1338.000000\n",
       "mean     39.207025    30.663397     1.094918  13270.422265\n",
       "std      14.049960     6.098187     1.205493  12110.011237\n",
       "min      18.000000    15.960000     0.000000   1121.873900\n",
       "25%      27.000000    26.296250     0.000000   4740.287150\n",
       "50%      39.000000    30.400000     1.000000   9382.033000\n",
       "75%      51.000000    34.693750     2.000000  16639.912515\n",
       "max      64.000000    53.130000     5.000000  63770.428010"
      ]
     },
     "execution_count": 2,
     "metadata": {},
     "output_type": "execute_result"
    }
   ],
   "source": [
    "# Describe the dataset\n",
    "featuresTrainDF.describe()"
   ]
  },
  {
   "cell_type": "code",
   "execution_count": 3,
   "metadata": {},
   "outputs": [
    {
     "data": {
      "text/plain": [
       "age         0\n",
       "sex         0\n",
       "bmi         0\n",
       "children    0\n",
       "smoker      0\n",
       "region      0\n",
       "charges     0\n",
       "dtype: int64"
      ]
     },
     "execution_count": 3,
     "metadata": {},
     "output_type": "execute_result"
    }
   ],
   "source": [
    "# Check for any missing data\n",
    "featuresTrainDF.isna().sum()"
   ]
  },
  {
   "cell_type": "markdown",
   "metadata": {},
   "source": [
    "Awesome! No Missing Data! Now lets take a look at the count and distribution of our different columns within the dataset."
   ]
  },
  {
   "cell_type": "code",
   "execution_count": 5,
   "metadata": {},
   "outputs": [
    {
     "data": {
      "image/png": "[encoded data removed]",
      "text/plain": [
       "<Figure size 700x600 with 1 Axes>"
      ]
     },
     "metadata": {},
     "output_type": "display_data"
    }
   ],
   "source": [
    "# Define a function to easily make bar charts\n",
    "def barChart(aDF, colName):\n",
    "    aDF[colName].value_counts().plot(kind='bar', figsize=(7, 6))\n",
    "    plt.xlabel(colName, labelpad=14)\n",
    "    plt.ylabel(\"Count\", labelpad=14)\n",
    "    plt.title(f\"The Count in the {colName} Column\")\n",
    "\n",
    "# Bar chart for the count of either male or female in the data set\n",
    "barChart(featuresTrainDF, 'sex')"
   ]
  },
  {
   "cell_type": "code",
   "execution_count": 6,
   "metadata": {},
   "outputs": [
    {
     "data": {
      "image/png": "[encoded data removed]",
      "text/plain": [
       "<Figure size 700x600 with 1 Axes>"
      ]
     },
     "metadata": {},
     "output_type": "display_data"
    }
   ],
   "source": [
    "# Bar chart for whether or not the person is a smoker or not\n",
    "barChart(featuresTrainDF, 'smoker')"
   ]
  },
  {
   "cell_type": "code",
   "execution_count": 7,
   "metadata": {},
   "outputs": [
    {
     "data": {
      "image/png": "[encoded data removed]",
      "text/plain": [
       "<Figure size 700x600 with 1 Axes>"
      ]
     },
     "metadata": {},
     "output_type": "display_data"
    }
   ],
   "source": [
    "# Bar chart for the different regions recorded\n",
    "barChart(featuresTrainDF, 'region')"
   ]
  },
  {
   "cell_type": "code",
   "execution_count": 8,
   "metadata": {},
   "outputs": [
    {
     "data": {
      "image/png": "[encoded data removed]",
      "text/plain": [
       "<Figure size 700x600 with 1 Axes>"
      ]
     },
     "metadata": {},
     "output_type": "display_data"
    }
   ],
   "source": [
    "# Define a function to easily make histograms\n",
    "def histogram(aDF, colName):\n",
    "    aDF[colName].hist(bins=15, figsize=(7, 6))\n",
    "    plt.xlabel(colName, labelpad=14)\n",
    "    plt.ylabel(\"Frequency\", labelpad=14)\n",
    "    plt.title(f\"Distribution of {colName}\")\n",
    "\n",
    "# Distribution of age within the dataset\n",
    "histogram(featuresTrainDF, 'age')"
   ]
  },
  {
   "cell_type": "code",
   "execution_count": 9,
   "metadata": {},
   "outputs": [
    {
     "data": {
      "image/png": "[encoded data removed]",
      "text/plain": [
       "<Figure size 700x600 with 1 Axes>"
      ]
     },
     "metadata": {},
     "output_type": "display_data"
    }
   ],
   "source": [
    "# Distribution of BMI within the dataset\n",
    "histogram(featuresTrainDF, 'bmi')"
   ]
  },
  {
   "cell_type": "code",
   "execution_count": 10,
   "metadata": {},
   "outputs": [
    {
     "data": {
      "image/png": "[encoded data removed]",
      "text/plain": [
       "<Figure size 700x600 with 1 Axes>"
      ]
     },
     "metadata": {},
     "output_type": "display_data"
    }
   ],
   "source": [
    "# Distribution of children within the data set\n",
    "histogram(featuresTrainDF, 'children')"
   ]
  },
  {
   "cell_type": "code",
   "execution_count": 11,
   "metadata": {},
   "outputs": [
    {
     "data": {
      "image/png": "[encoded data removed]",
      "text/plain": [
       "<Figure size 700x600 with 1 Axes>"
      ]
     },
     "metadata": {},
     "output_type": "display_data"
    }
   ],
   "source": [
    "# Distribution of charges within the dataset\n",
    "histogram(featuresTrainDF, 'charges')"
   ]
  },
  {
   "cell_type": "markdown",
   "metadata": {},
   "source": [
    "Now, let's define our categorical and our numerical values within lists."
   ]
  },
  {
   "cell_type": "code",
   "execution_count": 12,
   "metadata": {},
   "outputs": [],
   "source": [
    "# Now\n",
    "\n",
    "categorical = ['sex', 'smoker', 'region']\n",
    "numerical = ['age', 'bmi', 'children', 'charges',]"
   ]
  },
  {
   "cell_type": "markdown",
   "metadata": {},
   "source": [
    "Let's start one hot encoding our categorical data!*\n",
    "\n",
    "*I did get help from chatGPT on this because I couldn't quite figure out how to one hot encode multiple categorical variables\n",
    "\n",
    "prompt: \"How do I oneHotEncode multiple features/columns from a dataset?\""
   ]
  },
  {
   "cell_type": "code",
   "execution_count": 13,
   "metadata": {},
   "outputs": [
    {
     "name": "stderr",
     "output_type": "stream",
     "text": [
      "c:\\Users\\ethan\\anaconda3\\Lib\\site-packages\\sklearn\\preprocessing\\_encoders.py:972: FutureWarning: `sparse` was renamed to `sparse_output` in version 1.2 and will be removed in 1.4. `sparse_output` is ignored unless you leave `sparse` to its default value.\n",
      "  warnings.warn(\n"
     ]
    },
    {
     "data": {
      "text/plain": [
       "[array(['female', 'male'], dtype=object),\n",
       " array(['no', 'yes'], dtype=object),\n",
       " array(['northeast', 'northwest', 'southeast', 'southwest'], dtype=object)]"
      ]
     },
     "execution_count": 13,
     "metadata": {},
     "output_type": "execute_result"
    }
   ],
   "source": [
    "from sklearn.preprocessing import OneHotEncoder\n",
    "\n",
    "# Create an instance of one-hot-encoder\n",
    "encoder = OneHotEncoder(sparse=False)\n",
    "\n",
    "# Perform one-hot encoding on categorical columns\n",
    "encodedData = encoder.fit_transform(featuresTrainDF[categorical])\n",
    "oneHotDF = pd.DataFrame(encodedData, columns=[item for sublist in encoder.categories_ for item in sublist])\n",
    "\n",
    "encoder.categories_"
   ]
  },
  {
   "cell_type": "code",
   "execution_count": 14,
   "metadata": {},
   "outputs": [],
   "source": [
    "# Save our encoded data using pickle\n",
    "with open(\"encoder.pkl\", 'wb') as f:\n",
    "    pkl.dump(encoder, f)"
   ]
  },
  {
   "cell_type": "code",
   "execution_count": 15,
   "metadata": {},
   "outputs": [
    {
     "data": {
      "text/html": [
       "<div>\n",
       "<style scoped>\n",
       "    .dataframe tbody tr th:only-of-type {\n",
       "        vertical-align: middle;\n",
       "    }\n",
       "\n",
       "    .dataframe tbody tr th {\n",
       "        vertical-align: top;\n",
       "    }\n",
       "\n",
       "    .dataframe thead th {\n",
       "        text-align: right;\n",
       "    }\n",
       "</style>\n",
       "<table border=\"1\" class=\"dataframe\">\n",
       "  <thead>\n",
       "    <tr style=\"text-align: right;\">\n",
       "      <th></th>\n",
       "      <th>age</th>\n",
       "      <th>bmi</th>\n",
       "      <th>children</th>\n",
       "      <th>charges</th>\n",
       "      <th>female</th>\n",
       "      <th>male</th>\n",
       "      <th>no</th>\n",
       "      <th>yes</th>\n",
       "      <th>northeast</th>\n",
       "      <th>northwest</th>\n",
       "      <th>southeast</th>\n",
       "      <th>southwest</th>\n",
       "    </tr>\n",
       "  </thead>\n",
       "  <tbody>\n",
       "    <tr>\n",
       "      <th>0</th>\n",
       "      <td>19</td>\n",
       "      <td>27.900</td>\n",
       "      <td>0</td>\n",
       "      <td>16884.92400</td>\n",
       "      <td>1.0</td>\n",
       "      <td>0.0</td>\n",
       "      <td>0.0</td>\n",
       "      <td>1.0</td>\n",
       "      <td>0.0</td>\n",
       "      <td>0.0</td>\n",
       "      <td>0.0</td>\n",
       "      <td>1.0</td>\n",
       "    </tr>\n",
       "    <tr>\n",
       "      <th>1</th>\n",
       "      <td>18</td>\n",
       "      <td>33.770</td>\n",
       "      <td>1</td>\n",
       "      <td>1725.55230</td>\n",
       "      <td>0.0</td>\n",
       "      <td>1.0</td>\n",
       "      <td>1.0</td>\n",
       "      <td>0.0</td>\n",
       "      <td>0.0</td>\n",
       "      <td>0.0</td>\n",
       "      <td>1.0</td>\n",
       "      <td>0.0</td>\n",
       "    </tr>\n",
       "    <tr>\n",
       "      <th>2</th>\n",
       "      <td>28</td>\n",
       "      <td>33.000</td>\n",
       "      <td>3</td>\n",
       "      <td>4449.46200</td>\n",
       "      <td>0.0</td>\n",
       "      <td>1.0</td>\n",
       "      <td>1.0</td>\n",
       "      <td>0.0</td>\n",
       "      <td>0.0</td>\n",
       "      <td>0.0</td>\n",
       "      <td>1.0</td>\n",
       "      <td>0.0</td>\n",
       "    </tr>\n",
       "    <tr>\n",
       "      <th>3</th>\n",
       "      <td>33</td>\n",
       "      <td>22.705</td>\n",
       "      <td>0</td>\n",
       "      <td>21984.47061</td>\n",
       "      <td>0.0</td>\n",
       "      <td>1.0</td>\n",
       "      <td>1.0</td>\n",
       "      <td>0.0</td>\n",
       "      <td>0.0</td>\n",
       "      <td>1.0</td>\n",
       "      <td>0.0</td>\n",
       "      <td>0.0</td>\n",
       "    </tr>\n",
       "    <tr>\n",
       "      <th>4</th>\n",
       "      <td>32</td>\n",
       "      <td>28.880</td>\n",
       "      <td>0</td>\n",
       "      <td>3866.85520</td>\n",
       "      <td>0.0</td>\n",
       "      <td>1.0</td>\n",
       "      <td>1.0</td>\n",
       "      <td>0.0</td>\n",
       "      <td>0.0</td>\n",
       "      <td>1.0</td>\n",
       "      <td>0.0</td>\n",
       "      <td>0.0</td>\n",
       "    </tr>\n",
       "  </tbody>\n",
       "</table>\n",
       "</div>"
      ],
      "text/plain": [
       "   age     bmi  children      charges  female  male   no  yes  northeast  \\\n",
       "0   19  27.900         0  16884.92400     1.0   0.0  0.0  1.0        0.0   \n",
       "1   18  33.770         1   1725.55230     0.0   1.0  1.0  0.0        0.0   \n",
       "2   28  33.000         3   4449.46200     0.0   1.0  1.0  0.0        0.0   \n",
       "3   33  22.705         0  21984.47061     0.0   1.0  1.0  0.0        0.0   \n",
       "4   32  28.880         0   3866.85520     0.0   1.0  1.0  0.0        0.0   \n",
       "\n",
       "   northwest  southeast  southwest  \n",
       "0        0.0        0.0        1.0  \n",
       "1        0.0        1.0        0.0  \n",
       "2        0.0        1.0        0.0  \n",
       "3        1.0        0.0        0.0  \n",
       "4        1.0        0.0        0.0  "
      ]
     },
     "execution_count": 15,
     "metadata": {},
     "output_type": "execute_result"
    }
   ],
   "source": [
    "# Modify our dataframe\n",
    "\n",
    "oneHotDF.columns = oneHotDF.columns.get_level_values(0)\n",
    "\n",
    "featuresTrainDF = pd.concat([featuresTrainDF, oneHotDF], axis=1).drop(columns = ['sex', 'smoker', 'region'])\n",
    "featuresTrainDF.head()"
   ]
  },
  {
   "cell_type": "markdown",
   "metadata": {},
   "source": [
    "Using seaborn to visualize our numerical data to find any outliers"
   ]
  },
  {
   "cell_type": "code",
   "execution_count": 17,
   "metadata": {},
   "outputs": [
    {
     "data": {
      "text/plain": [
       "Text(0.5, 1.0, 'Box Plot of Age')"
      ]
     },
     "execution_count": 17,
     "metadata": {},
     "output_type": "execute_result"
    },
    {
     "data": {
      "image/png": "[encoded data removed]",
      "text/plain": [
       "<Figure size 640x480 with 1 Axes>"
      ]
     },
     "metadata": {},
     "output_type": "display_data"
    }
   ],
   "source": [
    "sns.boxplot(x=featuresTrainDF['age'])\n",
    "plt.title(\"Box Plot of Age\")"
   ]
  },
  {
   "cell_type": "code",
   "execution_count": 18,
   "metadata": {},
   "outputs": [
    {
     "data": {
      "text/plain": [
       "Text(0.5, 1.0, 'Box Plot of BMI')"
      ]
     },
     "execution_count": 18,
     "metadata": {},
     "output_type": "execute_result"
    },
    {
     "data": {
      "image/png": "[encoded data removed]",
      "text/plain": [
       "<Figure size 640x480 with 1 Axes>"
      ]
     },
     "metadata": {},
     "output_type": "display_data"
    }
   ],
   "source": [
    "sns.boxplot(x=featuresTrainDF['bmi'])\n",
    "plt.title(\"Box Plot of BMI\")"
   ]
  },
  {
   "cell_type": "code",
   "execution_count": 19,
   "metadata": {},
   "outputs": [
    {
     "data": {
      "text/plain": [
       "Text(0.5, 1.0, 'Box Plot of Children')"
      ]
     },
     "execution_count": 19,
     "metadata": {},
     "output_type": "execute_result"
    },
    {
     "data": {
      "image/png": "[encoded data removed]",
      "text/plain": [
       "<Figure size 640x480 with 1 Axes>"
      ]
     },
     "metadata": {},
     "output_type": "display_data"
    }
   ],
   "source": [
    "sns.boxplot(x=featuresTrainDF['children'])\n",
    "plt.title(\"Box Plot of Children\")"
   ]
  },
  {
   "cell_type": "code",
   "execution_count": 20,
   "metadata": {},
   "outputs": [
    {
     "data": {
      "text/plain": [
       "Text(0.5, 1.0, 'Box Plot of Charges')"
      ]
     },
     "execution_count": 20,
     "metadata": {},
     "output_type": "execute_result"
    },
    {
     "data": {
      "image/png": "[encoded data removed]",
      "text/plain": [
       "<Figure size 640x480 with 1 Axes>"
      ]
     },
     "metadata": {},
     "output_type": "display_data"
    }
   ],
   "source": [
    "sns.boxplot(x=featuresTrainDF['charges'])\n",
    "plt.title(\"Box Plot of Charges\")"
   ]
  },
  {
   "cell_type": "code",
   "execution_count": 21,
   "metadata": {},
   "outputs": [
    {
     "name": "stdout",
     "output_type": "stream",
     "text": [
      "(1338, 12)\n"
     ]
    }
   ],
   "source": [
    "print(featuresTrainDF.shape)"
   ]
  },
  {
   "cell_type": "markdown",
   "metadata": {},
   "source": [
    "It seems only BMI has outliers. Technically charges also has outliers, but that's our target variable, so it doesn't matter.\n",
    "\n",
    "Since BMI is the only one with outliers and it's normally distributed, we'll use zscore to remove the outliers. (I tried Iqr at first because I wasn't sure, but that didn't do anything.)"
   ]
  },
  {
   "cell_type": "code",
   "execution_count": 22,
   "metadata": {},
   "outputs": [
    {
     "data": {
      "text/plain": [
       "(1338, 1334)"
      ]
     },
     "execution_count": 22,
     "metadata": {},
     "output_type": "execute_result"
    }
   ],
   "source": [
    "from scipy.stats import zscore\n",
    "\n",
    "featuresTrainCleanedDF = featuresTrainDF\n",
    "\n",
    "# Calculate z-scores for the BMI column\n",
    "featuresTrainCleanedDF['bmi_zscore'] = zscore(featuresTrainCleanedDF['bmi'])\n",
    "\n",
    "# Define a threshold for outliers (typically, a z-score greater than 3 or less than -3)\n",
    "threshold = 3\n",
    "\n",
    "# Filter the dataset to remove outliers\n",
    "featuresTrainCleanedDF = featuresTrainCleanedDF[(featuresTrainCleanedDF['bmi_zscore'] < threshold) & (featuresTrainCleanedDF['bmi_zscore'] > -threshold)]\n",
    "\n",
    "# Display the number of rows before and after filtering\n",
    "originalRowCount = featuresTrainDF.shape[0]\n",
    "filteredRowCount = featuresTrainCleanedDF.shape[0]\n",
    "\n",
    "originalRowCount, filteredRowCount\n"
   ]
  },
  {
   "cell_type": "code",
   "execution_count": 23,
   "metadata": {},
   "outputs": [
    {
     "data": {
      "text/html": [
       "<div>\n",
       "<style scoped>\n",
       "    .dataframe tbody tr th:only-of-type {\n",
       "        vertical-align: middle;\n",
       "    }\n",
       "\n",
       "    .dataframe tbody tr th {\n",
       "        vertical-align: top;\n",
       "    }\n",
       "\n",
       "    .dataframe thead th {\n",
       "        text-align: right;\n",
       "    }\n",
       "</style>\n",
       "<table border=\"1\" class=\"dataframe\">\n",
       "  <thead>\n",
       "    <tr style=\"text-align: right;\">\n",
       "      <th></th>\n",
       "      <th>charges</th>\n",
       "    </tr>\n",
       "  </thead>\n",
       "  <tbody>\n",
       "    <tr>\n",
       "      <th>0</th>\n",
       "      <td>16884.92400</td>\n",
       "    </tr>\n",
       "    <tr>\n",
       "      <th>1</th>\n",
       "      <td>1725.55230</td>\n",
       "    </tr>\n",
       "    <tr>\n",
       "      <th>2</th>\n",
       "      <td>4449.46200</td>\n",
       "    </tr>\n",
       "    <tr>\n",
       "      <th>3</th>\n",
       "      <td>21984.47061</td>\n",
       "    </tr>\n",
       "    <tr>\n",
       "      <th>4</th>\n",
       "      <td>3866.85520</td>\n",
       "    </tr>\n",
       "  </tbody>\n",
       "</table>\n",
       "</div>"
      ],
      "text/plain": [
       "       charges\n",
       "0  16884.92400\n",
       "1   1725.55230\n",
       "2   4449.46200\n",
       "3  21984.47061\n",
       "4   3866.85520"
      ]
     },
     "execution_count": 23,
     "metadata": {},
     "output_type": "execute_result"
    }
   ],
   "source": [
    "# Make the 'y' dataframe\n",
    "\n",
    "featuresTrainCleanedDF = featuresTrainCleanedDF.reset_index().drop(columns=\"index\")\n",
    "\n",
    "yDF = pd.DataFrame(featuresTrainCleanedDF[\"charges\"])\n",
    "\n",
    "yDF.head()"
   ]
  },
  {
   "cell_type": "code",
   "execution_count": 24,
   "metadata": {},
   "outputs": [
    {
     "data": {
      "text/html": [
       "<div>\n",
       "<style scoped>\n",
       "    .dataframe tbody tr th:only-of-type {\n",
       "        vertical-align: middle;\n",
       "    }\n",
       "\n",
       "    .dataframe tbody tr th {\n",
       "        vertical-align: top;\n",
       "    }\n",
       "\n",
       "    .dataframe thead th {\n",
       "        text-align: right;\n",
       "    }\n",
       "</style>\n",
       "<table border=\"1\" class=\"dataframe\">\n",
       "  <thead>\n",
       "    <tr style=\"text-align: right;\">\n",
       "      <th></th>\n",
       "      <th>age</th>\n",
       "      <th>bmi</th>\n",
       "      <th>children</th>\n",
       "      <th>female</th>\n",
       "      <th>male</th>\n",
       "      <th>no</th>\n",
       "      <th>yes</th>\n",
       "      <th>northeast</th>\n",
       "      <th>northwest</th>\n",
       "      <th>southeast</th>\n",
       "      <th>southwest</th>\n",
       "      <th>bmi_zscore</th>\n",
       "    </tr>\n",
       "  </thead>\n",
       "  <tbody>\n",
       "    <tr>\n",
       "      <th>0</th>\n",
       "      <td>19</td>\n",
       "      <td>27.900</td>\n",
       "      <td>0</td>\n",
       "      <td>1.0</td>\n",
       "      <td>0.0</td>\n",
       "      <td>0.0</td>\n",
       "      <td>1.0</td>\n",
       "      <td>0.0</td>\n",
       "      <td>0.0</td>\n",
       "      <td>0.0</td>\n",
       "      <td>1.0</td>\n",
       "      <td>-0.453320</td>\n",
       "    </tr>\n",
       "    <tr>\n",
       "      <th>1</th>\n",
       "      <td>18</td>\n",
       "      <td>33.770</td>\n",
       "      <td>1</td>\n",
       "      <td>0.0</td>\n",
       "      <td>1.0</td>\n",
       "      <td>1.0</td>\n",
       "      <td>0.0</td>\n",
       "      <td>0.0</td>\n",
       "      <td>0.0</td>\n",
       "      <td>1.0</td>\n",
       "      <td>0.0</td>\n",
       "      <td>0.509621</td>\n",
       "    </tr>\n",
       "    <tr>\n",
       "      <th>2</th>\n",
       "      <td>28</td>\n",
       "      <td>33.000</td>\n",
       "      <td>3</td>\n",
       "      <td>0.0</td>\n",
       "      <td>1.0</td>\n",
       "      <td>1.0</td>\n",
       "      <td>0.0</td>\n",
       "      <td>0.0</td>\n",
       "      <td>0.0</td>\n",
       "      <td>1.0</td>\n",
       "      <td>0.0</td>\n",
       "      <td>0.383307</td>\n",
       "    </tr>\n",
       "    <tr>\n",
       "      <th>3</th>\n",
       "      <td>33</td>\n",
       "      <td>22.705</td>\n",
       "      <td>0</td>\n",
       "      <td>0.0</td>\n",
       "      <td>1.0</td>\n",
       "      <td>1.0</td>\n",
       "      <td>0.0</td>\n",
       "      <td>0.0</td>\n",
       "      <td>1.0</td>\n",
       "      <td>0.0</td>\n",
       "      <td>0.0</td>\n",
       "      <td>-1.305531</td>\n",
       "    </tr>\n",
       "    <tr>\n",
       "      <th>4</th>\n",
       "      <td>32</td>\n",
       "      <td>28.880</td>\n",
       "      <td>0</td>\n",
       "      <td>0.0</td>\n",
       "      <td>1.0</td>\n",
       "      <td>1.0</td>\n",
       "      <td>0.0</td>\n",
       "      <td>0.0</td>\n",
       "      <td>1.0</td>\n",
       "      <td>0.0</td>\n",
       "      <td>0.0</td>\n",
       "      <td>-0.292556</td>\n",
       "    </tr>\n",
       "  </tbody>\n",
       "</table>\n",
       "</div>"
      ],
      "text/plain": [
       "   age     bmi  children  female  male   no  yes  northeast  northwest  \\\n",
       "0   19  27.900         0     1.0   0.0  0.0  1.0        0.0        0.0   \n",
       "1   18  33.770         1     0.0   1.0  1.0  0.0        0.0        0.0   \n",
       "2   28  33.000         3     0.0   1.0  1.0  0.0        0.0        0.0   \n",
       "3   33  22.705         0     0.0   1.0  1.0  0.0        0.0        1.0   \n",
       "4   32  28.880         0     0.0   1.0  1.0  0.0        0.0        1.0   \n",
       "\n",
       "   southeast  southwest  bmi_zscore  \n",
       "0        0.0        1.0   -0.453320  \n",
       "1        1.0        0.0    0.509621  \n",
       "2        1.0        0.0    0.383307  \n",
       "3        0.0        0.0   -1.305531  \n",
       "4        0.0        0.0   -0.292556  "
      ]
     },
     "execution_count": 24,
     "metadata": {},
     "output_type": "execute_result"
    }
   ],
   "source": [
    "# Make the 'x' dataframe\n",
    "\n",
    "xDF = featuresTrainCleanedDF.drop(columns=['charges'])\n",
    "\n",
    "xDF.head()"
   ]
  },
  {
   "cell_type": "code",
   "execution_count": 25,
   "metadata": {},
   "outputs": [
    {
     "name": "stdout",
     "output_type": "stream",
     "text": [
      "(1334, 12)\n",
      "(1334, 1)\n"
     ]
    }
   ],
   "source": [
    "print(xDF.shape)\n",
    "print(yDF.shape)"
   ]
  },
  {
   "cell_type": "code",
   "execution_count": 26,
   "metadata": {},
   "outputs": [
    {
     "data": {
      "text/html": [
       "<div>\n",
       "<style scoped>\n",
       "    .dataframe tbody tr th:only-of-type {\n",
       "        vertical-align: middle;\n",
       "    }\n",
       "\n",
       "    .dataframe tbody tr th {\n",
       "        vertical-align: top;\n",
       "    }\n",
       "\n",
       "    .dataframe thead th {\n",
       "        text-align: right;\n",
       "    }\n",
       "</style>\n",
       "<table border=\"1\" class=\"dataframe\">\n",
       "  <thead>\n",
       "    <tr style=\"text-align: right;\">\n",
       "      <th></th>\n",
       "      <th>age</th>\n",
       "      <th>bmi</th>\n",
       "      <th>children</th>\n",
       "      <th>female</th>\n",
       "      <th>male</th>\n",
       "      <th>no</th>\n",
       "      <th>yes</th>\n",
       "      <th>northeast</th>\n",
       "      <th>northwest</th>\n",
       "      <th>southeast</th>\n",
       "      <th>southwest</th>\n",
       "      <th>bmi_zscore</th>\n",
       "    </tr>\n",
       "  </thead>\n",
       "  <tbody>\n",
       "    <tr>\n",
       "      <th>722</th>\n",
       "      <td>19</td>\n",
       "      <td>35.400</td>\n",
       "      <td>0</td>\n",
       "      <td>0.0</td>\n",
       "      <td>1.0</td>\n",
       "      <td>1.0</td>\n",
       "      <td>0.0</td>\n",
       "      <td>0.0</td>\n",
       "      <td>0.0</td>\n",
       "      <td>0.0</td>\n",
       "      <td>1.0</td>\n",
       "      <td>0.777014</td>\n",
       "    </tr>\n",
       "    <tr>\n",
       "      <th>1319</th>\n",
       "      <td>42</td>\n",
       "      <td>40.370</td>\n",
       "      <td>2</td>\n",
       "      <td>1.0</td>\n",
       "      <td>0.0</td>\n",
       "      <td>0.0</td>\n",
       "      <td>1.0</td>\n",
       "      <td>0.0</td>\n",
       "      <td>0.0</td>\n",
       "      <td>1.0</td>\n",
       "      <td>0.0</td>\n",
       "      <td>1.592315</td>\n",
       "    </tr>\n",
       "    <tr>\n",
       "      <th>951</th>\n",
       "      <td>44</td>\n",
       "      <td>30.200</td>\n",
       "      <td>2</td>\n",
       "      <td>0.0</td>\n",
       "      <td>1.0</td>\n",
       "      <td>0.0</td>\n",
       "      <td>1.0</td>\n",
       "      <td>0.0</td>\n",
       "      <td>0.0</td>\n",
       "      <td>0.0</td>\n",
       "      <td>1.0</td>\n",
       "      <td>-0.076018</td>\n",
       "    </tr>\n",
       "    <tr>\n",
       "      <th>406</th>\n",
       "      <td>47</td>\n",
       "      <td>23.600</td>\n",
       "      <td>1</td>\n",
       "      <td>1.0</td>\n",
       "      <td>0.0</td>\n",
       "      <td>1.0</td>\n",
       "      <td>0.0</td>\n",
       "      <td>0.0</td>\n",
       "      <td>0.0</td>\n",
       "      <td>0.0</td>\n",
       "      <td>1.0</td>\n",
       "      <td>-1.158711</td>\n",
       "    </tr>\n",
       "    <tr>\n",
       "      <th>648</th>\n",
       "      <td>58</td>\n",
       "      <td>32.965</td>\n",
       "      <td>0</td>\n",
       "      <td>1.0</td>\n",
       "      <td>0.0</td>\n",
       "      <td>1.0</td>\n",
       "      <td>0.0</td>\n",
       "      <td>1.0</td>\n",
       "      <td>0.0</td>\n",
       "      <td>0.0</td>\n",
       "      <td>0.0</td>\n",
       "      <td>0.377565</td>\n",
       "    </tr>\n",
       "  </tbody>\n",
       "</table>\n",
       "</div>"
      ],
      "text/plain": [
       "      age     bmi  children  female  male   no  yes  northeast  northwest  \\\n",
       "722    19  35.400         0     0.0   1.0  1.0  0.0        0.0        0.0   \n",
       "1319   42  40.370         2     1.0   0.0  0.0  1.0        0.0        0.0   \n",
       "951    44  30.200         2     0.0   1.0  0.0  1.0        0.0        0.0   \n",
       "406    47  23.600         1     1.0   0.0  1.0  0.0        0.0        0.0   \n",
       "648    58  32.965         0     1.0   0.0  1.0  0.0        1.0        0.0   \n",
       "\n",
       "      southeast  southwest  bmi_zscore  \n",
       "722         0.0        1.0    0.777014  \n",
       "1319        1.0        0.0    1.592315  \n",
       "951         0.0        1.0   -0.076018  \n",
       "406         0.0        1.0   -1.158711  \n",
       "648         0.0        0.0    0.377565  "
      ]
     },
     "execution_count": 26,
     "metadata": {},
     "output_type": "execute_result"
    }
   ],
   "source": [
    "# Initialize the test, train, split\n",
    "\n",
    "from sklearn.model_selection import train_test_split\n",
    "\n",
    "xTrain, xTest, yTrain, yTest = train_test_split(xDF, \n",
    "                                                yDF,\n",
    "                                                test_size = 0.3,\n",
    "                                                shuffle=True)\n",
    "\n",
    "xTrain.head()"
   ]
  },
  {
   "cell_type": "code",
   "execution_count": 27,
   "metadata": {},
   "outputs": [
    {
     "data": {
      "text/html": [
       "<div>\n",
       "<style scoped>\n",
       "    .dataframe tbody tr th:only-of-type {\n",
       "        vertical-align: middle;\n",
       "    }\n",
       "\n",
       "    .dataframe tbody tr th {\n",
       "        vertical-align: top;\n",
       "    }\n",
       "\n",
       "    .dataframe thead th {\n",
       "        text-align: right;\n",
       "    }\n",
       "</style>\n",
       "<table border=\"1\" class=\"dataframe\">\n",
       "  <thead>\n",
       "    <tr style=\"text-align: right;\">\n",
       "      <th></th>\n",
       "      <th>age</th>\n",
       "      <th>bmi</th>\n",
       "      <th>children</th>\n",
       "      <th>female</th>\n",
       "      <th>male</th>\n",
       "      <th>no</th>\n",
       "      <th>yes</th>\n",
       "      <th>northeast</th>\n",
       "      <th>northwest</th>\n",
       "      <th>southeast</th>\n",
       "      <th>southwest</th>\n",
       "      <th>bmi_zscore</th>\n",
       "    </tr>\n",
       "  </thead>\n",
       "  <tbody>\n",
       "    <tr>\n",
       "      <th>722</th>\n",
       "      <td>-1.423824</td>\n",
       "      <td>0.797177</td>\n",
       "      <td>-0.920363</td>\n",
       "      <td>-0.992525</td>\n",
       "      <td>0.992525</td>\n",
       "      <td>0.477108</td>\n",
       "      <td>-0.477108</td>\n",
       "      <td>-0.563735</td>\n",
       "      <td>-0.576938</td>\n",
       "      <td>-0.608312</td>\n",
       "      <td>1.784336</td>\n",
       "      <td>0.797177</td>\n",
       "    </tr>\n",
       "    <tr>\n",
       "      <th>1319</th>\n",
       "      <td>0.226130</td>\n",
       "      <td>1.627895</td>\n",
       "      <td>0.699823</td>\n",
       "      <td>1.007531</td>\n",
       "      <td>-1.007531</td>\n",
       "      <td>-2.095964</td>\n",
       "      <td>2.095964</td>\n",
       "      <td>-0.563735</td>\n",
       "      <td>-0.576938</td>\n",
       "      <td>1.643892</td>\n",
       "      <td>-0.560432</td>\n",
       "      <td>1.627895</td>\n",
       "    </tr>\n",
       "    <tr>\n",
       "      <th>951</th>\n",
       "      <td>0.369604</td>\n",
       "      <td>-0.071985</td>\n",
       "      <td>0.699823</td>\n",
       "      <td>-0.992525</td>\n",
       "      <td>0.992525</td>\n",
       "      <td>-2.095964</td>\n",
       "      <td>2.095964</td>\n",
       "      <td>-0.563735</td>\n",
       "      <td>-0.576938</td>\n",
       "      <td>-0.608312</td>\n",
       "      <td>1.784336</td>\n",
       "      <td>-0.071985</td>\n",
       "    </tr>\n",
       "    <tr>\n",
       "      <th>406</th>\n",
       "      <td>0.584815</td>\n",
       "      <td>-1.175152</td>\n",
       "      <td>-0.110270</td>\n",
       "      <td>1.007531</td>\n",
       "      <td>-1.007531</td>\n",
       "      <td>0.477108</td>\n",
       "      <td>-0.477108</td>\n",
       "      <td>-0.563735</td>\n",
       "      <td>-0.576938</td>\n",
       "      <td>-0.608312</td>\n",
       "      <td>1.784336</td>\n",
       "      <td>-1.175152</td>\n",
       "    </tr>\n",
       "    <tr>\n",
       "      <th>648</th>\n",
       "      <td>1.373923</td>\n",
       "      <td>0.390175</td>\n",
       "      <td>-0.920363</td>\n",
       "      <td>1.007531</td>\n",
       "      <td>-1.007531</td>\n",
       "      <td>0.477108</td>\n",
       "      <td>-0.477108</td>\n",
       "      <td>1.773885</td>\n",
       "      <td>-0.576938</td>\n",
       "      <td>-0.608312</td>\n",
       "      <td>-0.560432</td>\n",
       "      <td>0.390175</td>\n",
       "    </tr>\n",
       "  </tbody>\n",
       "</table>\n",
       "</div>"
      ],
      "text/plain": [
       "           age       bmi  children    female      male        no       yes  \\\n",
       "722  -1.423824  0.797177 -0.920363 -0.992525  0.992525  0.477108 -0.477108   \n",
       "1319  0.226130  1.627895  0.699823  1.007531 -1.007531 -2.095964  2.095964   \n",
       "951   0.369604 -0.071985  0.699823 -0.992525  0.992525 -2.095964  2.095964   \n",
       "406   0.584815 -1.175152 -0.110270  1.007531 -1.007531  0.477108 -0.477108   \n",
       "648   1.373923  0.390175 -0.920363  1.007531 -1.007531  0.477108 -0.477108   \n",
       "\n",
       "      northeast  northwest  southeast  southwest  bmi_zscore  \n",
       "722   -0.563735  -0.576938  -0.608312   1.784336    0.797177  \n",
       "1319  -0.563735  -0.576938   1.643892  -0.560432    1.627895  \n",
       "951   -0.563735  -0.576938  -0.608312   1.784336   -0.071985  \n",
       "406   -0.563735  -0.576938  -0.608312   1.784336   -1.175152  \n",
       "648    1.773885  -0.576938  -0.608312  -0.560432    0.390175  "
      ]
     },
     "execution_count": 27,
     "metadata": {},
     "output_type": "execute_result"
    }
   ],
   "source": [
    "from sklearn.preprocessing import StandardScaler\n",
    "\n",
    "xScaler = StandardScaler()\n",
    "yScaler = StandardScaler()\n",
    "\n",
    "colNames = xTrain.columns.values.tolist()\n",
    "xTrain[colNames] = xScaler.fit_transform(xTrain[colNames])\n",
    "\n",
    "colNames = yTrain.columns.values.tolist()\n",
    "yTrain[colNames] = yScaler.fit_transform(yTrain[colNames])\n",
    "\n",
    "colNames = xTrain.columns.values.tolist()\n",
    "xTest[colNames] = xScaler.transform(xTest[colNames])\n",
    "\n",
    "colNames = yTrain.columns.values.tolist()\n",
    "yTest[colNames] = yScaler.transform(yTest[colNames])\n",
    "\n",
    "xTrain.head()"
   ]
  },
  {
   "cell_type": "code",
   "execution_count": 28,
   "metadata": {},
   "outputs": [],
   "source": [
    "with open(\"xScaler.pkl\", 'wb') as f:\n",
    "    pkl.dump(xScaler, f)\n",
    "\n",
    "with open(\"yScaler.pkl\", 'wb') as f:\n",
    "    pkl.dump(yScaler, f)"
   ]
  },
  {
   "cell_type": "code",
   "execution_count": 29,
   "metadata": {},
   "outputs": [
    {
     "data": {
      "text/html": [
       "<div>\n",
       "<style scoped>\n",
       "    .dataframe tbody tr th:only-of-type {\n",
       "        vertical-align: middle;\n",
       "    }\n",
       "\n",
       "    .dataframe tbody tr th {\n",
       "        vertical-align: top;\n",
       "    }\n",
       "\n",
       "    .dataframe thead th {\n",
       "        text-align: right;\n",
       "    }\n",
       "</style>\n",
       "<table border=\"1\" class=\"dataframe\">\n",
       "  <thead>\n",
       "    <tr style=\"text-align: right;\">\n",
       "      <th></th>\n",
       "      <th>charges</th>\n",
       "    </tr>\n",
       "  </thead>\n",
       "  <tbody>\n",
       "    <tr>\n",
       "      <th>722</th>\n",
       "      <td>-0.994681</td>\n",
       "    </tr>\n",
       "    <tr>\n",
       "      <th>1319</th>\n",
       "      <td>2.672981</td>\n",
       "    </tr>\n",
       "    <tr>\n",
       "      <th>951</th>\n",
       "      <td>2.251629</td>\n",
       "    </tr>\n",
       "    <tr>\n",
       "      <th>406</th>\n",
       "      <td>-0.368701</td>\n",
       "    </tr>\n",
       "    <tr>\n",
       "      <th>648</th>\n",
       "      <td>-0.033940</td>\n",
       "    </tr>\n",
       "  </tbody>\n",
       "</table>\n",
       "</div>"
      ],
      "text/plain": [
       "       charges\n",
       "722  -0.994681\n",
       "1319  2.672981\n",
       "951   2.251629\n",
       "406  -0.368701\n",
       "648  -0.033940"
      ]
     },
     "execution_count": 29,
     "metadata": {},
     "output_type": "execute_result"
    }
   ],
   "source": [
    "yTrain.head()"
   ]
  },
  {
   "cell_type": "code",
   "execution_count": 30,
   "metadata": {},
   "outputs": [
    {
     "data": {
      "text/html": [
       "<div>\n",
       "<style scoped>\n",
       "    .dataframe tbody tr th:only-of-type {\n",
       "        vertical-align: middle;\n",
       "    }\n",
       "\n",
       "    .dataframe tbody tr th {\n",
       "        vertical-align: top;\n",
       "    }\n",
       "\n",
       "    .dataframe thead th {\n",
       "        text-align: right;\n",
       "    }\n",
       "</style>\n",
       "<table border=\"1\" class=\"dataframe\">\n",
       "  <thead>\n",
       "    <tr style=\"text-align: right;\">\n",
       "      <th></th>\n",
       "      <th>charges</th>\n",
       "    </tr>\n",
       "  </thead>\n",
       "  <tbody>\n",
       "    <tr>\n",
       "      <th>202</th>\n",
       "      <td>2.091216</td>\n",
       "    </tr>\n",
       "    <tr>\n",
       "      <th>955</th>\n",
       "      <td>-0.018547</td>\n",
       "    </tr>\n",
       "    <tr>\n",
       "      <th>1249</th>\n",
       "      <td>0.293131</td>\n",
       "    </tr>\n",
       "    <tr>\n",
       "      <th>1090</th>\n",
       "      <td>1.813658</td>\n",
       "    </tr>\n",
       "    <tr>\n",
       "      <th>437</th>\n",
       "      <td>-0.020040</td>\n",
       "    </tr>\n",
       "  </tbody>\n",
       "</table>\n",
       "</div>"
      ],
      "text/plain": [
       "       charges\n",
       "202   2.091216\n",
       "955  -0.018547\n",
       "1249  0.293131\n",
       "1090  1.813658\n",
       "437  -0.020040"
      ]
     },
     "execution_count": 30,
     "metadata": {},
     "output_type": "execute_result"
    }
   ],
   "source": [
    "yTest.head()"
   ]
  },
  {
   "cell_type": "code",
   "execution_count": 31,
   "metadata": {},
   "outputs": [
    {
     "name": "stdout",
     "output_type": "stream",
     "text": [
      "R-Sqaured Score:  0.7686909735720316\n",
      "Mean Absolute Error:  0.3718253204264764\n",
      "Root Mean Squared Error:  0.2909971803052073\n"
     ]
    }
   ],
   "source": [
    "from sklearn.metrics import r2_score\n",
    "from sklearn.metrics import mean_absolute_error\n",
    "from sklearn.metrics import mean_squared_error\n",
    "\n",
    "from sklearn.linear_model import LinearRegression\n",
    "\n",
    "model = LinearRegression().fit(xTrain, yTrain)\n",
    "preds = model.predict(xTest)\n",
    "\n",
    "r2 = r2_score(yTest, preds)\n",
    "print(\"R-Sqaured Score: \", r2)\n",
    "\n",
    "mae = mean_absolute_error(yTest, preds)\n",
    "print(\"Mean Absolute Error: \", mae)\n",
    "\n",
    "rmse = mean_squared_error(yTest, preds)\n",
    "print(\"Root Mean Squared Error: \", rmse)"
   ]
  },
  {
   "cell_type": "code",
   "execution_count": 32,
   "metadata": {},
   "outputs": [
    {
     "name": "stdout",
     "output_type": "stream",
     "text": [
      "R-Sqaured Score:  0.8622995558539375\n",
      "Mean Absolute Error:  0.22255363243195284\n",
      "Root Mean Squared Error:  0.1732333648715485\n"
     ]
    },
    {
     "name": "stderr",
     "output_type": "stream",
     "text": [
      "c:\\Users\\ethan\\anaconda3\\Lib\\site-packages\\sklearn\\utils\\validation.py:1184: DataConversionWarning: A column-vector y was passed when a 1d array was expected. Please change the shape of y to (n_samples, ), for example using ravel().\n",
      "  y = column_or_1d(y, warn=True)\n"
     ]
    }
   ],
   "source": [
    "from sklearn import svm\n",
    "\n",
    "svmModel = svm.SVR().fit(xTrain, yTrain)\n",
    "\n",
    "preds = svmModel.predict(xTest)\n",
    "\n",
    "r2 = r2_score(yTest, preds)\n",
    "print(\"R-Sqaured Score: \", r2)\n",
    "\n",
    "mae = mean_absolute_error(yTest, preds)\n",
    "print(\"Mean Absolute Error: \", mae)\n",
    "\n",
    "rmse = mean_squared_error(yTest, preds)\n",
    "print(\"Root Mean Squared Error: \", rmse)"
   ]
  },
  {
   "cell_type": "code",
   "execution_count": 33,
   "metadata": {},
   "outputs": [
    {
     "name": "stdout",
     "output_type": "stream",
     "text": [
      "0.8443856124312794\n",
      "0.19875748867794177\n",
      "0.1556143875687206\n"
     ]
    }
   ],
   "source": [
    "# Bias testing\n",
    "preds = svmModel.predict(xTrain)\n",
    "\n",
    "print(r2_score(yTrain, preds))\n",
    "print(mean_absolute_error(yTrain, preds))\n",
    "print(mean_squared_error(yTrain, preds))"
   ]
  },
  {
   "cell_type": "code",
   "execution_count": 34,
   "metadata": {},
   "outputs": [
    {
     "name": "stdout",
     "output_type": "stream",
     "text": [
      "R-Sqaured Score:  0.7772645499903367\n",
      "Mean Absolute Error:  0.2395773777519647\n",
      "Root Mean Squared Error:  0.28021123476133597\n"
     ]
    }
   ],
   "source": [
    "from sklearn import tree\n",
    "\n",
    "dtModel = tree.DecisionTreeRegressor().fit(xTrain, yTrain)\n",
    "\n",
    "preds = dtModel.predict(xTest)\n",
    "\n",
    "r2 = r2_score(yTest, preds)\n",
    "print(\"R-Sqaured Score: \", r2)\n",
    "\n",
    "mae = mean_absolute_error(yTest, preds)\n",
    "print(\"Mean Absolute Error: \", mae)\n",
    "\n",
    "rmse = mean_squared_error(yTest, preds)\n",
    "print(\"Root Mean Squared Error: \", rmse)"
   ]
  },
  {
   "cell_type": "code",
   "execution_count": 35,
   "metadata": {},
   "outputs": [
    {
     "name": "stdout",
     "output_type": "stream",
     "text": [
      "0.9979269854102596\n",
      "0.002917645428162162\n",
      "0.002073014589740425\n"
     ]
    }
   ],
   "source": [
    "# Bias testing\n",
    "preds = dtModel.predict(xTrain)\n",
    "\n",
    "print(r2_score(yTrain, preds))\n",
    "print(mean_absolute_error(yTrain, preds))\n",
    "print(mean_squared_error(yTrain, preds))"
   ]
  },
  {
   "cell_type": "code",
   "execution_count": 36,
   "metadata": {},
   "outputs": [
    {
     "name": "stderr",
     "output_type": "stream",
     "text": [
      "c:\\Users\\ethan\\anaconda3\\Lib\\site-packages\\sklearn\\neural_network\\_multilayer_perceptron.py:1625: DataConversionWarning: A column-vector y was passed when a 1d array was expected. Please change the shape of y to (n_samples, ), for example using ravel().\n",
      "  y = column_or_1d(y, warn=True)\n"
     ]
    },
    {
     "name": "stdout",
     "output_type": "stream",
     "text": [
      "R-Sqaured Score:  0.8632534113205804\n",
      "Mean Absolute Error:  0.24790344391756758\n",
      "Root Mean Squared Error:  0.1720333717044066\n"
     ]
    },
    {
     "name": "stderr",
     "output_type": "stream",
     "text": [
      "c:\\Users\\ethan\\anaconda3\\Lib\\site-packages\\sklearn\\neural_network\\_multilayer_perceptron.py:691: ConvergenceWarning: Stochastic Optimizer: Maximum iterations (200) reached and the optimization hasn't converged yet.\n",
      "  warnings.warn(\n"
     ]
    }
   ],
   "source": [
    "from sklearn.neural_network import MLPRegressor\n",
    "\n",
    "nnModel = MLPRegressor().fit(xTrain, yTrain)\n",
    "\n",
    "preds = nnModel.predict(xTest)\n",
    "\n",
    "r2 = r2_score(yTest, preds)\n",
    "print(\"R-Sqaured Score: \", r2)\n",
    "\n",
    "mae = mean_absolute_error(yTest, preds)\n",
    "print(\"Mean Absolute Error: \", mae)\n",
    "\n",
    "rmse = mean_squared_error(yTest, preds)\n",
    "print(\"Root Mean Squared Error: \", rmse)"
   ]
  },
  {
   "cell_type": "code",
   "execution_count": 37,
   "metadata": {},
   "outputs": [
    {
     "name": "stdout",
     "output_type": "stream",
     "text": [
      "0.8738680164598162\n",
      "0.2115906346801446\n",
      "0.12613198354018387\n"
     ]
    }
   ],
   "source": [
    "# Bias testing\n",
    "preds = nnModel.predict(xTrain)\n",
    "\n",
    "print(r2_score(yTrain, preds))\n",
    "print(mean_absolute_error(yTrain, preds))\n",
    "print(mean_squared_error(yTrain, preds))"
   ]
  },
  {
   "cell_type": "code",
   "execution_count": 38,
   "metadata": {},
   "outputs": [],
   "source": [
    "with open(\"linearModel.pkl\", 'wb') as f:\n",
    "    pkl.dump(model, f)\n",
    "\n",
    "with open(\"SVMModel.pkl\", 'wb') as f:\n",
    "    pkl.dump(svmModel, f)\n",
    "\n",
    "with open(\"treeModel.pkl\", 'wb') as f:\n",
    "    pkl.dump(dtModel, f)\n",
    "\n",
    "with open(\"nnModel.pkl\", 'wb') as f:\n",
    "    pkl.dump(nnModel, f)"
   ]
  }
 ],
 "metadata": {
  "kernelspec": {
   "display_name": "base",
   "language": "python",
   "name": "python3"
  },
  "language_info": {
   "codemirror_mode": {
    "name": "ipython",
    "version": 3
   },
   "file_extension": ".py",
   "mimetype": "text/x-python",
   "name": "python",
   "nbconvert_exporter": "python",
   "pygments_lexer": "ipython3",
   "version": "3.11.5"
  }
 },
 "nbformat": 4,
 "nbformat_minor": 2
}
