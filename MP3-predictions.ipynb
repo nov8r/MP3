{
 "cells": [
  {
   "cell_type": "code",
   "execution_count": 1,
   "metadata": {},
   "outputs": [],
   "source": [
    "# Import Libraries\n",
    "import pandas as pd\n",
    "import pickle as pkl"
   ]
  },
  {
   "cell_type": "code",
   "execution_count": 2,
   "metadata": {},
   "outputs": [
    {
     "data": {
      "text/html": [
       "<div>\n",
       "<style scoped>\n",
       "    .dataframe tbody tr th:only-of-type {\n",
       "        vertical-align: middle;\n",
       "    }\n",
       "\n",
       "    .dataframe tbody tr th {\n",
       "        vertical-align: top;\n",
       "    }\n",
       "\n",
       "    .dataframe thead th {\n",
       "        text-align: right;\n",
       "    }\n",
       "</style>\n",
       "<table border=\"1\" class=\"dataframe\">\n",
       "  <thead>\n",
       "    <tr style=\"text-align: right;\">\n",
       "      <th></th>\n",
       "      <th>age</th>\n",
       "      <th>sex</th>\n",
       "      <th>bmi</th>\n",
       "      <th>children</th>\n",
       "      <th>smoker</th>\n",
       "      <th>region</th>\n",
       "      <th>bmi_zscore</th>\n",
       "    </tr>\n",
       "  </thead>\n",
       "  <tbody>\n",
       "    <tr>\n",
       "      <th>0</th>\n",
       "      <td>32</td>\n",
       "      <td>female</td>\n",
       "      <td>21.3</td>\n",
       "      <td>2</td>\n",
       "      <td>yes</td>\n",
       "      <td>southwest</td>\n",
       "      <td>0.33</td>\n",
       "    </tr>\n",
       "  </tbody>\n",
       "</table>\n",
       "</div>"
      ],
      "text/plain": [
       "   age     sex   bmi  children smoker     region  bmi_zscore\n",
       "0   32  female  21.3         2    yes  southwest        0.33"
      ]
     },
     "execution_count": 2,
     "metadata": {},
     "output_type": "execute_result"
    }
   ],
   "source": [
    "# Define a dataframe for predictions\n",
    "\n",
    "predXDict = {'age': [32],\n",
    "             'sex': ['female'],\n",
    "             'bmi': [21.3],\n",
    "             'children': [2],\n",
    "             'smoker': ['yes'],\n",
    "             'region': ['southwest'],\n",
    "             'bmi_zscore': [0.33]}\n",
    "\n",
    "predXDF = pd.DataFrame.from_dict(predXDict)\n",
    "\n",
    "predXDF.head()"
   ]
  },
  {
   "cell_type": "code",
   "execution_count": 3,
   "metadata": {},
   "outputs": [],
   "source": [
    "with open(\"nnModel.pkl\", 'rb') as f:\n",
    "    nnModel = pkl.load(f)"
   ]
  },
  {
   "cell_type": "code",
   "execution_count": 4,
   "metadata": {},
   "outputs": [
    {
     "data": {
      "text/plain": [
       "[array(['female', 'male'], dtype=object),\n",
       " array(['no', 'yes'], dtype=object),\n",
       " array(['northeast', 'northwest', 'southeast', 'southwest'], dtype=object)]"
      ]
     },
     "execution_count": 4,
     "metadata": {},
     "output_type": "execute_result"
    }
   ],
   "source": [
    "with open(\"encoder.pkl\", 'rb') as f:\n",
    "    encoder = pkl.load(f)\n",
    "\n",
    "encoder.categories_"
   ]
  },
  {
   "cell_type": "code",
   "execution_count": 5,
   "metadata": {},
   "outputs": [
    {
     "data": {
      "text/plain": [
       "array([[1., 0., 0., 1., 0., 0., 0., 1.]])"
      ]
     },
     "execution_count": 5,
     "metadata": {},
     "output_type": "execute_result"
    }
   ],
   "source": [
    "encodedData = encoder.transform(predXDF[['sex', 'smoker', 'region']])\n",
    "\n",
    "encodedData"
   ]
  },
  {
   "cell_type": "code",
   "execution_count": 6,
   "metadata": {},
   "outputs": [
    {
     "data": {
      "text/html": [
       "<div>\n",
       "<style scoped>\n",
       "    .dataframe tbody tr th:only-of-type {\n",
       "        vertical-align: middle;\n",
       "    }\n",
       "\n",
       "    .dataframe tbody tr th {\n",
       "        vertical-align: top;\n",
       "    }\n",
       "\n",
       "    .dataframe thead th {\n",
       "        text-align: right;\n",
       "    }\n",
       "</style>\n",
       "<table border=\"1\" class=\"dataframe\">\n",
       "  <thead>\n",
       "    <tr style=\"text-align: right;\">\n",
       "      <th></th>\n",
       "      <th>female</th>\n",
       "      <th>male</th>\n",
       "      <th>no</th>\n",
       "      <th>yes</th>\n",
       "      <th>northeast</th>\n",
       "      <th>northwest</th>\n",
       "      <th>southeast</th>\n",
       "      <th>southwest</th>\n",
       "    </tr>\n",
       "  </thead>\n",
       "  <tbody>\n",
       "    <tr>\n",
       "      <th>0</th>\n",
       "      <td>1.0</td>\n",
       "      <td>0.0</td>\n",
       "      <td>0.0</td>\n",
       "      <td>1.0</td>\n",
       "      <td>0.0</td>\n",
       "      <td>0.0</td>\n",
       "      <td>0.0</td>\n",
       "      <td>1.0</td>\n",
       "    </tr>\n",
       "  </tbody>\n",
       "</table>\n",
       "</div>"
      ],
      "text/plain": [
       "   female  male   no  yes  northeast  northwest  southeast  southwest\n",
       "0     1.0   0.0  0.0  1.0        0.0        0.0        0.0        1.0"
      ]
     },
     "execution_count": 6,
     "metadata": {},
     "output_type": "execute_result"
    }
   ],
   "source": [
    "column_names = [value for values in encoder.categories_ for value in values]\n",
    "\n",
    "oneHotDF = pd.DataFrame(encodedData, columns=column_names)\n",
    "\n",
    "oneHotDF.head()"
   ]
  },
  {
   "cell_type": "code",
   "execution_count": 7,
   "metadata": {},
   "outputs": [
    {
     "data": {
      "text/html": [
       "<div>\n",
       "<style scoped>\n",
       "    .dataframe tbody tr th:only-of-type {\n",
       "        vertical-align: middle;\n",
       "    }\n",
       "\n",
       "    .dataframe tbody tr th {\n",
       "        vertical-align: top;\n",
       "    }\n",
       "\n",
       "    .dataframe thead th {\n",
       "        text-align: right;\n",
       "    }\n",
       "</style>\n",
       "<table border=\"1\" class=\"dataframe\">\n",
       "  <thead>\n",
       "    <tr style=\"text-align: right;\">\n",
       "      <th></th>\n",
       "      <th>age</th>\n",
       "      <th>bmi</th>\n",
       "      <th>children</th>\n",
       "      <th>female</th>\n",
       "      <th>male</th>\n",
       "      <th>no</th>\n",
       "      <th>yes</th>\n",
       "      <th>northeast</th>\n",
       "      <th>northwest</th>\n",
       "      <th>southeast</th>\n",
       "      <th>southwest</th>\n",
       "      <th>bmi_zscore</th>\n",
       "    </tr>\n",
       "  </thead>\n",
       "  <tbody>\n",
       "    <tr>\n",
       "      <th>0</th>\n",
       "      <td>32</td>\n",
       "      <td>21.3</td>\n",
       "      <td>2</td>\n",
       "      <td>1.0</td>\n",
       "      <td>0.0</td>\n",
       "      <td>0.0</td>\n",
       "      <td>1.0</td>\n",
       "      <td>0.0</td>\n",
       "      <td>0.0</td>\n",
       "      <td>0.0</td>\n",
       "      <td>1.0</td>\n",
       "      <td>0.33</td>\n",
       "    </tr>\n",
       "  </tbody>\n",
       "</table>\n",
       "</div>"
      ],
      "text/plain": [
       "   age   bmi  children  female  male   no  yes  northeast  northwest  \\\n",
       "0   32  21.3         2     1.0   0.0  0.0  1.0        0.0        0.0   \n",
       "\n",
       "   southeast  southwest  bmi_zscore  \n",
       "0        0.0        1.0        0.33  "
      ]
     },
     "execution_count": 7,
     "metadata": {},
     "output_type": "execute_result"
    }
   ],
   "source": [
    "oneHotDF.columns = oneHotDF.columns.get_level_values(0)\n",
    "\n",
    "predXDF = pd.concat([predXDF, oneHotDF], axis=1).drop(columns=['sex', 'smoker', 'region'])\n",
    "\n",
    "columns_except_bmi_zscore = [col for col in predXDF.columns if col != 'bmi_zscore']\n",
    "\n",
    "# Now append 'bmi_zscore' to the end of this list\n",
    "ordered_columns = columns_except_bmi_zscore + ['bmi_zscore']\n",
    "\n",
    "# Reorder predXDF columns based on the list above\n",
    "predXDF = predXDF[ordered_columns]\n",
    "\n",
    "predXDF.head()"
   ]
  },
  {
   "cell_type": "code",
   "execution_count": 8,
   "metadata": {},
   "outputs": [],
   "source": [
    "with open(\"xScaler.pkl\", 'rb') as f:\n",
    "    xScaler = pkl.load(f)\n",
    "\n",
    "with open(\"yScaler.pkl\", 'rb') as f:\n",
    "    yScaler = pkl.load(f)"
   ]
  },
  {
   "cell_type": "code",
   "execution_count": 9,
   "metadata": {},
   "outputs": [
    {
     "data": {
      "text/html": [
       "<div>\n",
       "<style scoped>\n",
       "    .dataframe tbody tr th:only-of-type {\n",
       "        vertical-align: middle;\n",
       "    }\n",
       "\n",
       "    .dataframe tbody tr th {\n",
       "        vertical-align: top;\n",
       "    }\n",
       "\n",
       "    .dataframe thead th {\n",
       "        text-align: right;\n",
       "    }\n",
       "</style>\n",
       "<table border=\"1\" class=\"dataframe\">\n",
       "  <thead>\n",
       "    <tr style=\"text-align: right;\">\n",
       "      <th></th>\n",
       "      <th>age</th>\n",
       "      <th>bmi</th>\n",
       "      <th>children</th>\n",
       "      <th>female</th>\n",
       "      <th>male</th>\n",
       "      <th>no</th>\n",
       "      <th>yes</th>\n",
       "      <th>northeast</th>\n",
       "      <th>northwest</th>\n",
       "      <th>southeast</th>\n",
       "      <th>southwest</th>\n",
       "      <th>bmi_zscore</th>\n",
       "    </tr>\n",
       "  </thead>\n",
       "  <tbody>\n",
       "    <tr>\n",
       "      <th>0</th>\n",
       "      <td>-0.525181</td>\n",
       "      <td>-1.541925</td>\n",
       "      <td>0.774466</td>\n",
       "      <td>1.040476</td>\n",
       "      <td>-1.040476</td>\n",
       "      <td>-2.088557</td>\n",
       "      <td>2.088557</td>\n",
       "      <td>-0.576938</td>\n",
       "      <td>-0.573637</td>\n",
       "      <td>-0.586839</td>\n",
       "      <td>1.748291</td>\n",
       "      <td>0.350476</td>\n",
       "    </tr>\n",
       "  </tbody>\n",
       "</table>\n",
       "</div>"
      ],
      "text/plain": [
       "        age       bmi  children    female      male        no       yes  \\\n",
       "0 -0.525181 -1.541925  0.774466  1.040476 -1.040476 -2.088557  2.088557   \n",
       "\n",
       "   northeast  northwest  southeast  southwest  bmi_zscore  \n",
       "0  -0.576938  -0.573637  -0.586839   1.748291    0.350476  "
      ]
     },
     "execution_count": 9,
     "metadata": {},
     "output_type": "execute_result"
    }
   ],
   "source": [
    "colNames = predXDF.columns.values.tolist()\n",
    "\n",
    "colNames\n",
    "\n",
    "# use the scaler to transform the prediction data\n",
    "predXDF[colNames] = xScaler.transform(predXDF[colNames])\n",
    "\n",
    "predXDF.head()"
   ]
  },
  {
   "cell_type": "code",
   "execution_count": 10,
   "metadata": {},
   "outputs": [],
   "source": [
    "with open(\"linearModel.pkl\", 'rb') as f:\n",
    "    linearModel = pkl.load(f)\n",
    "\n",
    "with open(\"SVMModel.pkl\", 'rb') as f:\n",
    "    svmModel = pkl.load(f)\n",
    "\n",
    "with open(\"treeModel.pkl\", 'rb') as f:\n",
    "    treeModel = pkl.load(f)\n",
    "\n",
    "with open(\"nnModel.pkl\", 'rb') as f:\n",
    "    nnModel = pkl.load(f)"
   ]
  },
  {
   "cell_type": "code",
   "execution_count": 11,
   "metadata": {},
   "outputs": [
    {
     "name": "stdout",
     "output_type": "stream",
     "text": [
      "linear prediction: [[29075.05201055]]\n",
      "svm prediction: [[21845.87792449]]\n",
      "tree prediction: [[38998.546]]\n",
      "neural net prediction: [[26295.91876224]]\n"
     ]
    }
   ],
   "source": [
    "linPred = linearModel.predict(predXDF)\n",
    "svmPred = svmModel.predict(predXDF)\n",
    "treePred = treeModel.predict(predXDF)\n",
    "nnPred = nnModel.predict(predXDF)\n",
    "\n",
    "linPred = yScaler.inverse_transform(linPred.reshape(-1, 1))\n",
    "svmPred = yScaler.inverse_transform(svmPred.reshape(-1, 1))\n",
    "treePred = yScaler.inverse_transform(treePred.reshape(-1, 1))\n",
    "nnPred = yScaler.inverse_transform(nnPred.reshape(-1, 1))\n",
    "\n",
    "print(f\"linear prediction: {linPred}\")\n",
    "print(f\"svm prediction: {svmPred}\")\n",
    "print(f\"tree prediction: {treePred}\")\n",
    "print(f\"neural net prediction: {nnPred}\")"
   ]
  }
 ],
 "metadata": {
  "kernelspec": {
   "display_name": "base",
   "language": "python",
   "name": "python3"
  },
  "language_info": {
   "codemirror_mode": {
    "name": "ipython",
    "version": 3
   },
   "file_extension": ".py",
   "mimetype": "text/x-python",
   "name": "python",
   "nbconvert_exporter": "python",
   "pygments_lexer": "ipython3",
   "version": "3.11.5"
  }
 },
 "nbformat": 4,
 "nbformat_minor": 2
}
